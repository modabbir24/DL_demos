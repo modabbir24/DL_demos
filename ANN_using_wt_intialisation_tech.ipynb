{
  "nbformat": 4,
  "nbformat_minor": 0,
  "metadata": {
    "colab": {
      "name": "ANN_using_wt_intialisation_tech.ipynb",
      "provenance": [],
      "authorship_tag": "ABX9TyNrzrdzvCMQFBPL6wQcHxWD",
      "include_colab_link": true
    },
    "kernelspec": {
      "name": "python3",
      "display_name": "Python 3"
    }
  },
  "cells": [
    {
      "cell_type": "markdown",
      "metadata": {
        "id": "view-in-github",
        "colab_type": "text"
      },
      "source": [
        "<a href=\"https://colab.research.google.com/github/modabbir24/DL_demos/blob/main/ANN_using_wt_intialisation_tech.ipynb\" target=\"_parent\"><img src=\"https://colab.research.google.com/assets/colab-badge.svg\" alt=\"Open In Colab\"/></a>"
      ]
    },
    {
      "cell_type": "code",
      "metadata": {
        "id": "3b7nK-1Op7C_"
      },
      "source": [
        "import numpy as np\r\n",
        "import pandas as pd\r\n",
        "import matplotlib.pyplot as plt"
      ],
      "execution_count": 17,
      "outputs": []
    },
    {
      "cell_type": "code",
      "metadata": {
        "colab": {
          "base_uri": "https://localhost:8080/",
          "height": 215
        },
        "id": "5iFlb42frD12",
        "outputId": "384f7d3e-a0de-40c3-b254-a092da63e159"
      },
      "source": [
        "df=pd.read_csv(\"Churn_Modelling.csv\")\r\n",
        "df.head()"
      ],
      "execution_count": 2,
      "outputs": [
        {
          "output_type": "execute_result",
          "data": {
            "text/html": [
              "<div>\n",
              "<style scoped>\n",
              "    .dataframe tbody tr th:only-of-type {\n",
              "        vertical-align: middle;\n",
              "    }\n",
              "\n",
              "    .dataframe tbody tr th {\n",
              "        vertical-align: top;\n",
              "    }\n",
              "\n",
              "    .dataframe thead th {\n",
              "        text-align: right;\n",
              "    }\n",
              "</style>\n",
              "<table border=\"1\" class=\"dataframe\">\n",
              "  <thead>\n",
              "    <tr style=\"text-align: right;\">\n",
              "      <th></th>\n",
              "      <th>RowNumber</th>\n",
              "      <th>CustomerId</th>\n",
              "      <th>Surname</th>\n",
              "      <th>CreditScore</th>\n",
              "      <th>Geography</th>\n",
              "      <th>Gender</th>\n",
              "      <th>Age</th>\n",
              "      <th>Tenure</th>\n",
              "      <th>Balance</th>\n",
              "      <th>NumOfProducts</th>\n",
              "      <th>HasCrCard</th>\n",
              "      <th>IsActiveMember</th>\n",
              "      <th>EstimatedSalary</th>\n",
              "      <th>Exited</th>\n",
              "    </tr>\n",
              "  </thead>\n",
              "  <tbody>\n",
              "    <tr>\n",
              "      <th>0</th>\n",
              "      <td>1</td>\n",
              "      <td>15634602</td>\n",
              "      <td>Hargrave</td>\n",
              "      <td>619</td>\n",
              "      <td>France</td>\n",
              "      <td>Female</td>\n",
              "      <td>42</td>\n",
              "      <td>2</td>\n",
              "      <td>0.00</td>\n",
              "      <td>1</td>\n",
              "      <td>1</td>\n",
              "      <td>1</td>\n",
              "      <td>101348.88</td>\n",
              "      <td>1</td>\n",
              "    </tr>\n",
              "    <tr>\n",
              "      <th>1</th>\n",
              "      <td>2</td>\n",
              "      <td>15647311</td>\n",
              "      <td>Hill</td>\n",
              "      <td>608</td>\n",
              "      <td>Spain</td>\n",
              "      <td>Female</td>\n",
              "      <td>41</td>\n",
              "      <td>1</td>\n",
              "      <td>83807.86</td>\n",
              "      <td>1</td>\n",
              "      <td>0</td>\n",
              "      <td>1</td>\n",
              "      <td>112542.58</td>\n",
              "      <td>0</td>\n",
              "    </tr>\n",
              "    <tr>\n",
              "      <th>2</th>\n",
              "      <td>3</td>\n",
              "      <td>15619304</td>\n",
              "      <td>Onio</td>\n",
              "      <td>502</td>\n",
              "      <td>France</td>\n",
              "      <td>Female</td>\n",
              "      <td>42</td>\n",
              "      <td>8</td>\n",
              "      <td>159660.80</td>\n",
              "      <td>3</td>\n",
              "      <td>1</td>\n",
              "      <td>0</td>\n",
              "      <td>113931.57</td>\n",
              "      <td>1</td>\n",
              "    </tr>\n",
              "    <tr>\n",
              "      <th>3</th>\n",
              "      <td>4</td>\n",
              "      <td>15701354</td>\n",
              "      <td>Boni</td>\n",
              "      <td>699</td>\n",
              "      <td>France</td>\n",
              "      <td>Female</td>\n",
              "      <td>39</td>\n",
              "      <td>1</td>\n",
              "      <td>0.00</td>\n",
              "      <td>2</td>\n",
              "      <td>0</td>\n",
              "      <td>0</td>\n",
              "      <td>93826.63</td>\n",
              "      <td>0</td>\n",
              "    </tr>\n",
              "    <tr>\n",
              "      <th>4</th>\n",
              "      <td>5</td>\n",
              "      <td>15737888</td>\n",
              "      <td>Mitchell</td>\n",
              "      <td>850</td>\n",
              "      <td>Spain</td>\n",
              "      <td>Female</td>\n",
              "      <td>43</td>\n",
              "      <td>2</td>\n",
              "      <td>125510.82</td>\n",
              "      <td>1</td>\n",
              "      <td>1</td>\n",
              "      <td>1</td>\n",
              "      <td>79084.10</td>\n",
              "      <td>0</td>\n",
              "    </tr>\n",
              "  </tbody>\n",
              "</table>\n",
              "</div>"
            ],
            "text/plain": [
              "   RowNumber  CustomerId   Surname  ...  IsActiveMember EstimatedSalary Exited\n",
              "0          1    15634602  Hargrave  ...               1       101348.88      1\n",
              "1          2    15647311      Hill  ...               1       112542.58      0\n",
              "2          3    15619304      Onio  ...               0       113931.57      1\n",
              "3          4    15701354      Boni  ...               0        93826.63      0\n",
              "4          5    15737888  Mitchell  ...               1        79084.10      0\n",
              "\n",
              "[5 rows x 14 columns]"
            ]
          },
          "metadata": {
            "tags": []
          },
          "execution_count": 2
        }
      ]
    },
    {
      "cell_type": "code",
      "metadata": {
        "colab": {
          "base_uri": "https://localhost:8080/"
        },
        "id": "HrsYbuzgtD47",
        "outputId": "1abb22c0-4bb4-45c5-f339-188eee312ca5"
      },
      "source": [
        "df['Geography'].unique()"
      ],
      "execution_count": 3,
      "outputs": [
        {
          "output_type": "execute_result",
          "data": {
            "text/plain": [
              "array(['France', 'Spain', 'Germany'], dtype=object)"
            ]
          },
          "metadata": {
            "tags": []
          },
          "execution_count": 3
        }
      ]
    },
    {
      "cell_type": "code",
      "metadata": {
        "colab": {
          "base_uri": "https://localhost:8080/"
        },
        "id": "wlBBzlH-tKw3",
        "outputId": "f06ca3d4-420f-4766-f7cb-c7acbf680c27"
      },
      "source": [
        "df['Gender'].unique()"
      ],
      "execution_count": 4,
      "outputs": [
        {
          "output_type": "execute_result",
          "data": {
            "text/plain": [
              "array(['Female', 'Male'], dtype=object)"
            ]
          },
          "metadata": {
            "tags": []
          },
          "execution_count": 4
        }
      ]
    },
    {
      "cell_type": "code",
      "metadata": {
        "id": "C9BAdCsQskgY"
      },
      "source": [
        "X = df.iloc[:, 3:13]\r\n",
        "y = df.iloc[:, 13]"
      ],
      "execution_count": 5,
      "outputs": []
    },
    {
      "cell_type": "code",
      "metadata": {
        "id": "DT1MdU9_syLT"
      },
      "source": [
        "#Create dummy variables\r\n",
        "geography=pd.get_dummies(X[\"Geography\"],drop_first=True)\r\n",
        "gender=pd.get_dummies(X['Gender'],drop_first=True)"
      ],
      "execution_count": 6,
      "outputs": []
    },
    {
      "cell_type": "code",
      "metadata": {
        "colab": {
          "base_uri": "https://localhost:8080/",
          "height": 195
        },
        "id": "bnYbGhdUs8MM",
        "outputId": "38d5d290-5acb-4ed6-cc09-0d882192f4fe"
      },
      "source": [
        "geography.head()"
      ],
      "execution_count": 7,
      "outputs": [
        {
          "output_type": "execute_result",
          "data": {
            "text/html": [
              "<div>\n",
              "<style scoped>\n",
              "    .dataframe tbody tr th:only-of-type {\n",
              "        vertical-align: middle;\n",
              "    }\n",
              "\n",
              "    .dataframe tbody tr th {\n",
              "        vertical-align: top;\n",
              "    }\n",
              "\n",
              "    .dataframe thead th {\n",
              "        text-align: right;\n",
              "    }\n",
              "</style>\n",
              "<table border=\"1\" class=\"dataframe\">\n",
              "  <thead>\n",
              "    <tr style=\"text-align: right;\">\n",
              "      <th></th>\n",
              "      <th>Germany</th>\n",
              "      <th>Spain</th>\n",
              "    </tr>\n",
              "  </thead>\n",
              "  <tbody>\n",
              "    <tr>\n",
              "      <th>0</th>\n",
              "      <td>0</td>\n",
              "      <td>0</td>\n",
              "    </tr>\n",
              "    <tr>\n",
              "      <th>1</th>\n",
              "      <td>0</td>\n",
              "      <td>1</td>\n",
              "    </tr>\n",
              "    <tr>\n",
              "      <th>2</th>\n",
              "      <td>0</td>\n",
              "      <td>0</td>\n",
              "    </tr>\n",
              "    <tr>\n",
              "      <th>3</th>\n",
              "      <td>0</td>\n",
              "      <td>0</td>\n",
              "    </tr>\n",
              "    <tr>\n",
              "      <th>4</th>\n",
              "      <td>0</td>\n",
              "      <td>1</td>\n",
              "    </tr>\n",
              "  </tbody>\n",
              "</table>\n",
              "</div>"
            ],
            "text/plain": [
              "   Germany  Spain\n",
              "0        0      0\n",
              "1        0      1\n",
              "2        0      0\n",
              "3        0      0\n",
              "4        0      1"
            ]
          },
          "metadata": {
            "tags": []
          },
          "execution_count": 7
        }
      ]
    },
    {
      "cell_type": "code",
      "metadata": {
        "colab": {
          "base_uri": "https://localhost:8080/",
          "height": 195
        },
        "id": "1bgh6nems-pq",
        "outputId": "cd1f6666-e448-44f5-9808-a3885c3b0c54"
      },
      "source": [
        "gender.head()"
      ],
      "execution_count": 8,
      "outputs": [
        {
          "output_type": "execute_result",
          "data": {
            "text/html": [
              "<div>\n",
              "<style scoped>\n",
              "    .dataframe tbody tr th:only-of-type {\n",
              "        vertical-align: middle;\n",
              "    }\n",
              "\n",
              "    .dataframe tbody tr th {\n",
              "        vertical-align: top;\n",
              "    }\n",
              "\n",
              "    .dataframe thead th {\n",
              "        text-align: right;\n",
              "    }\n",
              "</style>\n",
              "<table border=\"1\" class=\"dataframe\">\n",
              "  <thead>\n",
              "    <tr style=\"text-align: right;\">\n",
              "      <th></th>\n",
              "      <th>Male</th>\n",
              "    </tr>\n",
              "  </thead>\n",
              "  <tbody>\n",
              "    <tr>\n",
              "      <th>0</th>\n",
              "      <td>0</td>\n",
              "    </tr>\n",
              "    <tr>\n",
              "      <th>1</th>\n",
              "      <td>0</td>\n",
              "    </tr>\n",
              "    <tr>\n",
              "      <th>2</th>\n",
              "      <td>0</td>\n",
              "    </tr>\n",
              "    <tr>\n",
              "      <th>3</th>\n",
              "      <td>0</td>\n",
              "    </tr>\n",
              "    <tr>\n",
              "      <th>4</th>\n",
              "      <td>0</td>\n",
              "    </tr>\n",
              "  </tbody>\n",
              "</table>\n",
              "</div>"
            ],
            "text/plain": [
              "   Male\n",
              "0     0\n",
              "1     0\n",
              "2     0\n",
              "3     0\n",
              "4     0"
            ]
          },
          "metadata": {
            "tags": []
          },
          "execution_count": 8
        }
      ]
    },
    {
      "cell_type": "code",
      "metadata": {
        "id": "0vk7kzqntTiX"
      },
      "source": [
        "## Concatenate the Data Frames\r\n",
        "\r\n",
        "X=pd.concat([X,geography,gender],axis=1)"
      ],
      "execution_count": 9,
      "outputs": []
    },
    {
      "cell_type": "code",
      "metadata": {
        "colab": {
          "base_uri": "https://localhost:8080/",
          "height": 195
        },
        "id": "8r2o2GGZtn1s",
        "outputId": "b2d7a412-daf8-4d2a-b85b-f0df0ea429dc"
      },
      "source": [
        "X.head()"
      ],
      "execution_count": 10,
      "outputs": [
        {
          "output_type": "execute_result",
          "data": {
            "text/html": [
              "<div>\n",
              "<style scoped>\n",
              "    .dataframe tbody tr th:only-of-type {\n",
              "        vertical-align: middle;\n",
              "    }\n",
              "\n",
              "    .dataframe tbody tr th {\n",
              "        vertical-align: top;\n",
              "    }\n",
              "\n",
              "    .dataframe thead th {\n",
              "        text-align: right;\n",
              "    }\n",
              "</style>\n",
              "<table border=\"1\" class=\"dataframe\">\n",
              "  <thead>\n",
              "    <tr style=\"text-align: right;\">\n",
              "      <th></th>\n",
              "      <th>CreditScore</th>\n",
              "      <th>Geography</th>\n",
              "      <th>Gender</th>\n",
              "      <th>Age</th>\n",
              "      <th>Tenure</th>\n",
              "      <th>Balance</th>\n",
              "      <th>NumOfProducts</th>\n",
              "      <th>HasCrCard</th>\n",
              "      <th>IsActiveMember</th>\n",
              "      <th>EstimatedSalary</th>\n",
              "      <th>Germany</th>\n",
              "      <th>Spain</th>\n",
              "      <th>Male</th>\n",
              "    </tr>\n",
              "  </thead>\n",
              "  <tbody>\n",
              "    <tr>\n",
              "      <th>0</th>\n",
              "      <td>619</td>\n",
              "      <td>France</td>\n",
              "      <td>Female</td>\n",
              "      <td>42</td>\n",
              "      <td>2</td>\n",
              "      <td>0.00</td>\n",
              "      <td>1</td>\n",
              "      <td>1</td>\n",
              "      <td>1</td>\n",
              "      <td>101348.88</td>\n",
              "      <td>0</td>\n",
              "      <td>0</td>\n",
              "      <td>0</td>\n",
              "    </tr>\n",
              "    <tr>\n",
              "      <th>1</th>\n",
              "      <td>608</td>\n",
              "      <td>Spain</td>\n",
              "      <td>Female</td>\n",
              "      <td>41</td>\n",
              "      <td>1</td>\n",
              "      <td>83807.86</td>\n",
              "      <td>1</td>\n",
              "      <td>0</td>\n",
              "      <td>1</td>\n",
              "      <td>112542.58</td>\n",
              "      <td>0</td>\n",
              "      <td>1</td>\n",
              "      <td>0</td>\n",
              "    </tr>\n",
              "    <tr>\n",
              "      <th>2</th>\n",
              "      <td>502</td>\n",
              "      <td>France</td>\n",
              "      <td>Female</td>\n",
              "      <td>42</td>\n",
              "      <td>8</td>\n",
              "      <td>159660.80</td>\n",
              "      <td>3</td>\n",
              "      <td>1</td>\n",
              "      <td>0</td>\n",
              "      <td>113931.57</td>\n",
              "      <td>0</td>\n",
              "      <td>0</td>\n",
              "      <td>0</td>\n",
              "    </tr>\n",
              "    <tr>\n",
              "      <th>3</th>\n",
              "      <td>699</td>\n",
              "      <td>France</td>\n",
              "      <td>Female</td>\n",
              "      <td>39</td>\n",
              "      <td>1</td>\n",
              "      <td>0.00</td>\n",
              "      <td>2</td>\n",
              "      <td>0</td>\n",
              "      <td>0</td>\n",
              "      <td>93826.63</td>\n",
              "      <td>0</td>\n",
              "      <td>0</td>\n",
              "      <td>0</td>\n",
              "    </tr>\n",
              "    <tr>\n",
              "      <th>4</th>\n",
              "      <td>850</td>\n",
              "      <td>Spain</td>\n",
              "      <td>Female</td>\n",
              "      <td>43</td>\n",
              "      <td>2</td>\n",
              "      <td>125510.82</td>\n",
              "      <td>1</td>\n",
              "      <td>1</td>\n",
              "      <td>1</td>\n",
              "      <td>79084.10</td>\n",
              "      <td>0</td>\n",
              "      <td>1</td>\n",
              "      <td>0</td>\n",
              "    </tr>\n",
              "  </tbody>\n",
              "</table>\n",
              "</div>"
            ],
            "text/plain": [
              "   CreditScore Geography  Gender  Age  ...  EstimatedSalary  Germany  Spain  Male\n",
              "0          619    France  Female   42  ...        101348.88        0      0     0\n",
              "1          608     Spain  Female   41  ...        112542.58        0      1     0\n",
              "2          502    France  Female   42  ...        113931.57        0      0     0\n",
              "3          699    France  Female   39  ...         93826.63        0      0     0\n",
              "4          850     Spain  Female   43  ...         79084.10        0      1     0\n",
              "\n",
              "[5 rows x 13 columns]"
            ]
          },
          "metadata": {
            "tags": []
          },
          "execution_count": 10
        }
      ]
    },
    {
      "cell_type": "code",
      "metadata": {
        "id": "DqN-zKkltoug"
      },
      "source": [
        "## Drop Unnecessary columns\r\n",
        "X=X.drop(['Geography','Gender'],axis=1)"
      ],
      "execution_count": 11,
      "outputs": []
    },
    {
      "cell_type": "code",
      "metadata": {
        "id": "qwujS7T0tzZM"
      },
      "source": [
        "# Splitting the dataset into the Training set and Test set\r\n",
        "from sklearn.model_selection import train_test_split\r\n",
        "X_train, X_test, y_train, y_test = train_test_split(X, y, test_size = 0.2, random_state = 0)\r\n",
        "\r\n",
        "# Feature Scaling\r\n",
        "from sklearn.preprocessing import StandardScaler\r\n",
        "sc = StandardScaler()\r\n",
        "X_train = sc.fit_transform(X_train)\r\n",
        "X_test = sc.transform(X_test)"
      ],
      "execution_count": 12,
      "outputs": []
    },
    {
      "cell_type": "code",
      "metadata": {
        "colab": {
          "base_uri": "https://localhost:8080/"
        },
        "id": "cKzK-DdGwvGk",
        "outputId": "18428a4f-537b-4f46-85f4-1c52e4b56785"
      },
      "source": [
        "!pip install keras==2.3.1 \r\n",
        "!pip install tensorflow==1.14.0"
      ],
      "execution_count": 13,
      "outputs": [
        {
          "output_type": "stream",
          "text": [
            "Requirement already satisfied: keras==2.3.1 in /usr/local/lib/python3.6/dist-packages (2.3.1)\n",
            "Requirement already satisfied: keras-preprocessing>=1.0.5 in /usr/local/lib/python3.6/dist-packages (from keras==2.3.1) (1.1.2)\n",
            "Requirement already satisfied: pyyaml in /usr/local/lib/python3.6/dist-packages (from keras==2.3.1) (3.13)\n",
            "Requirement already satisfied: scipy>=0.14 in /usr/local/lib/python3.6/dist-packages (from keras==2.3.1) (1.4.1)\n",
            "Requirement already satisfied: keras-applications>=1.0.6 in /usr/local/lib/python3.6/dist-packages (from keras==2.3.1) (1.0.8)\n",
            "Requirement already satisfied: h5py in /usr/local/lib/python3.6/dist-packages (from keras==2.3.1) (2.10.0)\n",
            "Requirement already satisfied: numpy>=1.9.1 in /usr/local/lib/python3.6/dist-packages (from keras==2.3.1) (1.19.4)\n",
            "Requirement already satisfied: six>=1.9.0 in /usr/local/lib/python3.6/dist-packages (from keras==2.3.1) (1.15.0)\n",
            "Requirement already satisfied: tensorflow==1.14.0 in /usr/local/lib/python3.6/dist-packages (1.14.0)\n",
            "Requirement already satisfied: six>=1.10.0 in /usr/local/lib/python3.6/dist-packages (from tensorflow==1.14.0) (1.15.0)\n",
            "Requirement already satisfied: tensorflow-estimator<1.15.0rc0,>=1.14.0rc0 in /usr/local/lib/python3.6/dist-packages (from tensorflow==1.14.0) (1.14.0)\n",
            "Requirement already satisfied: protobuf>=3.6.1 in /usr/local/lib/python3.6/dist-packages (from tensorflow==1.14.0) (3.12.4)\n",
            "Requirement already satisfied: grpcio>=1.8.6 in /usr/local/lib/python3.6/dist-packages (from tensorflow==1.14.0) (1.32.0)\n",
            "Requirement already satisfied: google-pasta>=0.1.6 in /usr/local/lib/python3.6/dist-packages (from tensorflow==1.14.0) (0.2.0)\n",
            "Requirement already satisfied: gast>=0.2.0 in /usr/local/lib/python3.6/dist-packages (from tensorflow==1.14.0) (0.3.3)\n",
            "Requirement already satisfied: absl-py>=0.7.0 in /usr/local/lib/python3.6/dist-packages (from tensorflow==1.14.0) (0.10.0)\n",
            "Requirement already satisfied: keras-preprocessing>=1.0.5 in /usr/local/lib/python3.6/dist-packages (from tensorflow==1.14.0) (1.1.2)\n",
            "Requirement already satisfied: tensorboard<1.15.0,>=1.14.0 in /usr/local/lib/python3.6/dist-packages (from tensorflow==1.14.0) (1.14.0)\n",
            "Requirement already satisfied: termcolor>=1.1.0 in /usr/local/lib/python3.6/dist-packages (from tensorflow==1.14.0) (1.1.0)\n",
            "Requirement already satisfied: astor>=0.6.0 in /usr/local/lib/python3.6/dist-packages (from tensorflow==1.14.0) (0.8.1)\n",
            "Requirement already satisfied: numpy<2.0,>=1.14.5 in /usr/local/lib/python3.6/dist-packages (from tensorflow==1.14.0) (1.19.4)\n",
            "Requirement already satisfied: wrapt>=1.11.1 in /usr/local/lib/python3.6/dist-packages (from tensorflow==1.14.0) (1.12.1)\n",
            "Requirement already satisfied: wheel>=0.26 in /usr/local/lib/python3.6/dist-packages (from tensorflow==1.14.0) (0.36.2)\n",
            "Requirement already satisfied: keras-applications>=1.0.6 in /usr/local/lib/python3.6/dist-packages (from tensorflow==1.14.0) (1.0.8)\n",
            "Requirement already satisfied: setuptools in /usr/local/lib/python3.6/dist-packages (from protobuf>=3.6.1->tensorflow==1.14.0) (50.3.2)\n",
            "Requirement already satisfied: markdown>=2.6.8 in /usr/local/lib/python3.6/dist-packages (from tensorboard<1.15.0,>=1.14.0->tensorflow==1.14.0) (3.3.3)\n",
            "Requirement already satisfied: werkzeug>=0.11.15 in /usr/local/lib/python3.6/dist-packages (from tensorboard<1.15.0,>=1.14.0->tensorflow==1.14.0) (1.0.1)\n",
            "Requirement already satisfied: h5py in /usr/local/lib/python3.6/dist-packages (from keras-applications>=1.0.6->tensorflow==1.14.0) (2.10.0)\n",
            "Requirement already satisfied: importlib-metadata; python_version < \"3.8\" in /usr/local/lib/python3.6/dist-packages (from markdown>=2.6.8->tensorboard<1.15.0,>=1.14.0->tensorflow==1.14.0) (3.3.0)\n",
            "Requirement already satisfied: typing-extensions>=3.6.4; python_version < \"3.8\" in /usr/local/lib/python3.6/dist-packages (from importlib-metadata; python_version < \"3.8\"->markdown>=2.6.8->tensorboard<1.15.0,>=1.14.0->tensorflow==1.14.0) (3.7.4.3)\n",
            "Requirement already satisfied: zipp>=0.5 in /usr/local/lib/python3.6/dist-packages (from importlib-metadata; python_version < \"3.8\"->markdown>=2.6.8->tensorboard<1.15.0,>=1.14.0->tensorflow==1.14.0) (3.4.0)\n"
          ],
          "name": "stdout"
        }
      ]
    },
    {
      "cell_type": "code",
      "metadata": {
        "colab": {
          "base_uri": "https://localhost:8080/"
        },
        "id": "Pj2Lgnuzt6Ii",
        "outputId": "64aa7296-2b7e-4c7c-ae1d-2d64cdae3939"
      },
      "source": [
        "# Importing the Keras libraries and packages\r\n",
        "import keras\r\n",
        "from keras.models import Sequential\r\n",
        "from keras.layers import Dense\r\n",
        "from keras.layers import LeakyReLU,PReLU,ELU\r\n",
        "from keras.layers import Dropout"
      ],
      "execution_count": 14,
      "outputs": [
        {
          "output_type": "stream",
          "text": [
            "Using TensorFlow backend.\n",
            "/usr/local/lib/python3.6/dist-packages/tensorflow/python/framework/dtypes.py:516: FutureWarning: Passing (type, 1) or '1type' as a synonym of type is deprecated; in a future version of numpy, it will be understood as (type, (1,)) / '(1,)type'.\n",
            "  _np_qint8 = np.dtype([(\"qint8\", np.int8, 1)])\n",
            "/usr/local/lib/python3.6/dist-packages/tensorflow/python/framework/dtypes.py:517: FutureWarning: Passing (type, 1) or '1type' as a synonym of type is deprecated; in a future version of numpy, it will be understood as (type, (1,)) / '(1,)type'.\n",
            "  _np_quint8 = np.dtype([(\"quint8\", np.uint8, 1)])\n",
            "/usr/local/lib/python3.6/dist-packages/tensorflow/python/framework/dtypes.py:518: FutureWarning: Passing (type, 1) or '1type' as a synonym of type is deprecated; in a future version of numpy, it will be understood as (type, (1,)) / '(1,)type'.\n",
            "  _np_qint16 = np.dtype([(\"qint16\", np.int16, 1)])\n",
            "/usr/local/lib/python3.6/dist-packages/tensorflow/python/framework/dtypes.py:519: FutureWarning: Passing (type, 1) or '1type' as a synonym of type is deprecated; in a future version of numpy, it will be understood as (type, (1,)) / '(1,)type'.\n",
            "  _np_quint16 = np.dtype([(\"quint16\", np.uint16, 1)])\n",
            "/usr/local/lib/python3.6/dist-packages/tensorflow/python/framework/dtypes.py:520: FutureWarning: Passing (type, 1) or '1type' as a synonym of type is deprecated; in a future version of numpy, it will be understood as (type, (1,)) / '(1,)type'.\n",
            "  _np_qint32 = np.dtype([(\"qint32\", np.int32, 1)])\n",
            "/usr/local/lib/python3.6/dist-packages/tensorflow/python/framework/dtypes.py:525: FutureWarning: Passing (type, 1) or '1type' as a synonym of type is deprecated; in a future version of numpy, it will be understood as (type, (1,)) / '(1,)type'.\n",
            "  np_resource = np.dtype([(\"resource\", np.ubyte, 1)])\n",
            "/usr/local/lib/python3.6/dist-packages/tensorboard/compat/tensorflow_stub/dtypes.py:541: FutureWarning: Passing (type, 1) or '1type' as a synonym of type is deprecated; in a future version of numpy, it will be understood as (type, (1,)) / '(1,)type'.\n",
            "  _np_qint8 = np.dtype([(\"qint8\", np.int8, 1)])\n",
            "/usr/local/lib/python3.6/dist-packages/tensorboard/compat/tensorflow_stub/dtypes.py:542: FutureWarning: Passing (type, 1) or '1type' as a synonym of type is deprecated; in a future version of numpy, it will be understood as (type, (1,)) / '(1,)type'.\n",
            "  _np_quint8 = np.dtype([(\"quint8\", np.uint8, 1)])\n",
            "/usr/local/lib/python3.6/dist-packages/tensorboard/compat/tensorflow_stub/dtypes.py:543: FutureWarning: Passing (type, 1) or '1type' as a synonym of type is deprecated; in a future version of numpy, it will be understood as (type, (1,)) / '(1,)type'.\n",
            "  _np_qint16 = np.dtype([(\"qint16\", np.int16, 1)])\n",
            "/usr/local/lib/python3.6/dist-packages/tensorboard/compat/tensorflow_stub/dtypes.py:544: FutureWarning: Passing (type, 1) or '1type' as a synonym of type is deprecated; in a future version of numpy, it will be understood as (type, (1,)) / '(1,)type'.\n",
            "  _np_quint16 = np.dtype([(\"quint16\", np.uint16, 1)])\n",
            "/usr/local/lib/python3.6/dist-packages/tensorboard/compat/tensorflow_stub/dtypes.py:545: FutureWarning: Passing (type, 1) or '1type' as a synonym of type is deprecated; in a future version of numpy, it will be understood as (type, (1,)) / '(1,)type'.\n",
            "  _np_qint32 = np.dtype([(\"qint32\", np.int32, 1)])\n",
            "/usr/local/lib/python3.6/dist-packages/tensorboard/compat/tensorflow_stub/dtypes.py:550: FutureWarning: Passing (type, 1) or '1type' as a synonym of type is deprecated; in a future version of numpy, it will be understood as (type, (1,)) / '(1,)type'.\n",
            "  np_resource = np.dtype([(\"resource\", np.ubyte, 1)])\n"
          ],
          "name": "stderr"
        }
      ]
    },
    {
      "cell_type": "code",
      "metadata": {
        "colab": {
          "base_uri": "https://localhost:8080/"
        },
        "id": "_Z4QSmVZujlC",
        "outputId": "f0823a0c-6c00-4aac-8214-86193c75cdb7"
      },
      "source": [
        "# Initialising the ANN\r\n",
        "classifier = Sequential()\r\n",
        "\r\n",
        "# Adding the input layer and the first hidden layer\r\n",
        "classifier.add(Dense(units = 6, kernel_initializer = 'he_uniform',activation='relu',input_dim = 11))\r\n",
        "\r\n",
        "# Adding the second hidden layer\r\n",
        "classifier.add(Dense(units = 6, kernel_initializer = 'he_uniform',activation='relu'))\r\n",
        "# Adding the output layer\r\n",
        "classifier.add(Dense(units = 1, kernel_initializer = 'glorot_uniform', activation = 'sigmoid'))\r\n",
        "\r\n",
        "# Compiling the ANN\r\n",
        "classifier.compile(optimizer = 'Adamax', loss = 'binary_crossentropy', metrics = ['accuracy'])\r\n",
        "\r\n",
        "# Fitting the ANN to the Training set\r\n",
        "model_history=classifier.fit(X_train, y_train,validation_split=0.33, batch_size = 10, nb_epoch = 100)"
      ],
      "execution_count": 15,
      "outputs": [
        {
          "output_type": "stream",
          "text": [
            "WARNING:tensorflow:From /usr/local/lib/python3.6/dist-packages/tensorflow/python/ops/nn_impl.py:180: add_dispatch_support.<locals>.wrapper (from tensorflow.python.ops.array_ops) is deprecated and will be removed in a future version.\n",
            "Instructions for updating:\n",
            "Use tf.where in 2.0, which has the same broadcast rule as np.where\n"
          ],
          "name": "stdout"
        },
        {
          "output_type": "stream",
          "text": [
            "/usr/local/lib/python3.6/dist-packages/ipykernel_launcher.py:16: UserWarning: The `nb_epoch` argument in `fit` has been renamed `epochs`.\n",
            "  app.launch_new_instance()\n"
          ],
          "name": "stderr"
        },
        {
          "output_type": "stream",
          "text": [
            "WARNING:tensorflow:From /usr/local/lib/python3.6/dist-packages/keras/backend/tensorflow_backend.py:422: The name tf.global_variables is deprecated. Please use tf.compat.v1.global_variables instead.\n",
            "\n",
            "Train on 5359 samples, validate on 2641 samples\n",
            "Epoch 1/100\n",
            "5359/5359 [==============================] - 1s 176us/step - loss: 0.5875 - accuracy: 0.7449 - val_loss: 0.5167 - val_accuracy: 0.7891\n",
            "Epoch 2/100\n",
            "5359/5359 [==============================] - 1s 151us/step - loss: 0.4918 - accuracy: 0.7977 - val_loss: 0.4846 - val_accuracy: 0.7970\n",
            "Epoch 3/100\n",
            "5359/5359 [==============================] - 1s 142us/step - loss: 0.4672 - accuracy: 0.8015 - val_loss: 0.4697 - val_accuracy: 0.8001\n",
            "Epoch 4/100\n",
            "5359/5359 [==============================] - 1s 160us/step - loss: 0.4531 - accuracy: 0.8078 - val_loss: 0.4607 - val_accuracy: 0.7974\n",
            "Epoch 5/100\n",
            "5359/5359 [==============================] - 1s 145us/step - loss: 0.4435 - accuracy: 0.8108 - val_loss: 0.4528 - val_accuracy: 0.8039\n",
            "Epoch 6/100\n",
            "5359/5359 [==============================] - 1s 147us/step - loss: 0.4369 - accuracy: 0.8160 - val_loss: 0.4471 - val_accuracy: 0.8111\n",
            "Epoch 7/100\n",
            "5359/5359 [==============================] - 1s 147us/step - loss: 0.4322 - accuracy: 0.8194 - val_loss: 0.4425 - val_accuracy: 0.8103\n",
            "Epoch 8/100\n",
            "5359/5359 [==============================] - 1s 148us/step - loss: 0.4276 - accuracy: 0.8218 - val_loss: 0.4384 - val_accuracy: 0.8129\n",
            "Epoch 9/100\n",
            "5359/5359 [==============================] - 1s 151us/step - loss: 0.4239 - accuracy: 0.8255 - val_loss: 0.4348 - val_accuracy: 0.8167\n",
            "Epoch 10/100\n",
            "5359/5359 [==============================] - 1s 149us/step - loss: 0.4208 - accuracy: 0.8270 - val_loss: 0.4327 - val_accuracy: 0.8156\n",
            "Epoch 11/100\n",
            "5359/5359 [==============================] - 1s 147us/step - loss: 0.4181 - accuracy: 0.8281 - val_loss: 0.4290 - val_accuracy: 0.8179\n",
            "Epoch 12/100\n",
            "5359/5359 [==============================] - 1s 147us/step - loss: 0.4149 - accuracy: 0.8294 - val_loss: 0.4267 - val_accuracy: 0.8179\n",
            "Epoch 13/100\n",
            "5359/5359 [==============================] - 1s 148us/step - loss: 0.4126 - accuracy: 0.8309 - val_loss: 0.4241 - val_accuracy: 0.8205\n",
            "Epoch 14/100\n",
            "5359/5359 [==============================] - 1s 146us/step - loss: 0.4099 - accuracy: 0.8289 - val_loss: 0.4220 - val_accuracy: 0.8217\n",
            "Epoch 15/100\n",
            "5359/5359 [==============================] - 1s 146us/step - loss: 0.4075 - accuracy: 0.8304 - val_loss: 0.4195 - val_accuracy: 0.8194\n",
            "Epoch 16/100\n",
            "5359/5359 [==============================] - 1s 146us/step - loss: 0.4048 - accuracy: 0.8293 - val_loss: 0.4170 - val_accuracy: 0.8167\n",
            "Epoch 17/100\n",
            "5359/5359 [==============================] - 1s 147us/step - loss: 0.4017 - accuracy: 0.8302 - val_loss: 0.4140 - val_accuracy: 0.8183\n",
            "Epoch 18/100\n",
            "5359/5359 [==============================] - 1s 148us/step - loss: 0.3985 - accuracy: 0.8326 - val_loss: 0.4107 - val_accuracy: 0.8213\n",
            "Epoch 19/100\n",
            "5359/5359 [==============================] - 1s 152us/step - loss: 0.3949 - accuracy: 0.8358 - val_loss: 0.4077 - val_accuracy: 0.8236\n",
            "Epoch 20/100\n",
            "5359/5359 [==============================] - 1s 148us/step - loss: 0.3910 - accuracy: 0.8369 - val_loss: 0.4046 - val_accuracy: 0.8266\n",
            "Epoch 21/100\n",
            "5359/5359 [==============================] - 1s 148us/step - loss: 0.3867 - accuracy: 0.8395 - val_loss: 0.4011 - val_accuracy: 0.8307\n",
            "Epoch 22/100\n",
            "5359/5359 [==============================] - 1s 154us/step - loss: 0.3821 - accuracy: 0.8408 - val_loss: 0.3966 - val_accuracy: 0.8311\n",
            "Epoch 23/100\n",
            "5359/5359 [==============================] - 1s 144us/step - loss: 0.3768 - accuracy: 0.8449 - val_loss: 0.3918 - val_accuracy: 0.8349\n",
            "Epoch 24/100\n",
            "5359/5359 [==============================] - 1s 155us/step - loss: 0.3711 - accuracy: 0.8502 - val_loss: 0.3855 - val_accuracy: 0.8364\n",
            "Epoch 25/100\n",
            "5359/5359 [==============================] - 1s 148us/step - loss: 0.3656 - accuracy: 0.8505 - val_loss: 0.3810 - val_accuracy: 0.8417\n",
            "Epoch 26/100\n",
            "5359/5359 [==============================] - 1s 145us/step - loss: 0.3606 - accuracy: 0.8524 - val_loss: 0.3769 - val_accuracy: 0.8425\n",
            "Epoch 27/100\n",
            "5359/5359 [==============================] - 1s 153us/step - loss: 0.3560 - accuracy: 0.8541 - val_loss: 0.3728 - val_accuracy: 0.8455\n",
            "Epoch 28/100\n",
            "5359/5359 [==============================] - 1s 151us/step - loss: 0.3523 - accuracy: 0.8558 - val_loss: 0.3700 - val_accuracy: 0.8444\n",
            "Epoch 29/100\n",
            "5359/5359 [==============================] - 1s 152us/step - loss: 0.3491 - accuracy: 0.8565 - val_loss: 0.3678 - val_accuracy: 0.8470\n",
            "Epoch 30/100\n",
            "5359/5359 [==============================] - 1s 150us/step - loss: 0.3466 - accuracy: 0.8580 - val_loss: 0.3659 - val_accuracy: 0.8485\n",
            "Epoch 31/100\n",
            "5359/5359 [==============================] - 1s 152us/step - loss: 0.3444 - accuracy: 0.8602 - val_loss: 0.3654 - val_accuracy: 0.8519\n",
            "Epoch 32/100\n",
            "5359/5359 [==============================] - 1s 149us/step - loss: 0.3431 - accuracy: 0.8586 - val_loss: 0.3641 - val_accuracy: 0.8523\n",
            "Epoch 33/100\n",
            "5359/5359 [==============================] - 1s 149us/step - loss: 0.3418 - accuracy: 0.8574 - val_loss: 0.3627 - val_accuracy: 0.8519\n",
            "Epoch 34/100\n",
            "5359/5359 [==============================] - 1s 151us/step - loss: 0.3405 - accuracy: 0.8615 - val_loss: 0.3619 - val_accuracy: 0.8531\n",
            "Epoch 35/100\n",
            "5359/5359 [==============================] - 1s 148us/step - loss: 0.3393 - accuracy: 0.8597 - val_loss: 0.3613 - val_accuracy: 0.8508\n",
            "Epoch 36/100\n",
            "5359/5359 [==============================] - 1s 151us/step - loss: 0.3384 - accuracy: 0.8599 - val_loss: 0.3606 - val_accuracy: 0.8531\n",
            "Epoch 37/100\n",
            "5359/5359 [==============================] - 1s 160us/step - loss: 0.3379 - accuracy: 0.8608 - val_loss: 0.3602 - val_accuracy: 0.8550\n",
            "Epoch 38/100\n",
            "5359/5359 [==============================] - 1s 151us/step - loss: 0.3372 - accuracy: 0.8614 - val_loss: 0.3598 - val_accuracy: 0.8519\n",
            "Epoch 39/100\n",
            "5359/5359 [==============================] - 1s 155us/step - loss: 0.3362 - accuracy: 0.8606 - val_loss: 0.3597 - val_accuracy: 0.8554\n",
            "Epoch 40/100\n",
            "5359/5359 [==============================] - 1s 151us/step - loss: 0.3361 - accuracy: 0.8619 - val_loss: 0.3589 - val_accuracy: 0.8569\n",
            "Epoch 41/100\n",
            "5359/5359 [==============================] - 1s 149us/step - loss: 0.3357 - accuracy: 0.8621 - val_loss: 0.3583 - val_accuracy: 0.8561\n",
            "Epoch 42/100\n",
            "5359/5359 [==============================] - 1s 148us/step - loss: 0.3352 - accuracy: 0.8628 - val_loss: 0.3584 - val_accuracy: 0.8565\n",
            "Epoch 43/100\n",
            "5359/5359 [==============================] - 1s 150us/step - loss: 0.3349 - accuracy: 0.8617 - val_loss: 0.3585 - val_accuracy: 0.8546\n",
            "Epoch 44/100\n",
            "5359/5359 [==============================] - 1s 150us/step - loss: 0.3343 - accuracy: 0.8617 - val_loss: 0.3581 - val_accuracy: 0.8546\n",
            "Epoch 45/100\n",
            "5359/5359 [==============================] - 1s 151us/step - loss: 0.3341 - accuracy: 0.8627 - val_loss: 0.3581 - val_accuracy: 0.8565\n",
            "Epoch 46/100\n",
            "5359/5359 [==============================] - 1s 152us/step - loss: 0.3338 - accuracy: 0.8617 - val_loss: 0.3580 - val_accuracy: 0.8550\n",
            "Epoch 47/100\n",
            "5359/5359 [==============================] - 1s 150us/step - loss: 0.3334 - accuracy: 0.8619 - val_loss: 0.3578 - val_accuracy: 0.8576\n",
            "Epoch 48/100\n",
            "5359/5359 [==============================] - 1s 151us/step - loss: 0.3331 - accuracy: 0.8617 - val_loss: 0.3576 - val_accuracy: 0.8561\n",
            "Epoch 49/100\n",
            "5359/5359 [==============================] - 1s 149us/step - loss: 0.3330 - accuracy: 0.8617 - val_loss: 0.3574 - val_accuracy: 0.8557\n",
            "Epoch 50/100\n",
            "5359/5359 [==============================] - 1s 150us/step - loss: 0.3328 - accuracy: 0.8617 - val_loss: 0.3574 - val_accuracy: 0.8561\n",
            "Epoch 51/100\n",
            "5359/5359 [==============================] - 1s 153us/step - loss: 0.3324 - accuracy: 0.8634 - val_loss: 0.3575 - val_accuracy: 0.8538\n",
            "Epoch 52/100\n",
            "5359/5359 [==============================] - 1s 150us/step - loss: 0.3325 - accuracy: 0.8619 - val_loss: 0.3574 - val_accuracy: 0.8550\n",
            "Epoch 53/100\n",
            "5359/5359 [==============================] - 1s 152us/step - loss: 0.3320 - accuracy: 0.8621 - val_loss: 0.3567 - val_accuracy: 0.8550\n",
            "Epoch 54/100\n",
            "5359/5359 [==============================] - 1s 146us/step - loss: 0.3319 - accuracy: 0.8638 - val_loss: 0.3568 - val_accuracy: 0.8569\n",
            "Epoch 55/100\n",
            "5359/5359 [==============================] - 1s 152us/step - loss: 0.3318 - accuracy: 0.8630 - val_loss: 0.3572 - val_accuracy: 0.8546\n",
            "Epoch 56/100\n",
            "5359/5359 [==============================] - 1s 153us/step - loss: 0.3316 - accuracy: 0.8636 - val_loss: 0.3572 - val_accuracy: 0.8565\n",
            "Epoch 57/100\n",
            "5359/5359 [==============================] - 1s 151us/step - loss: 0.3314 - accuracy: 0.8612 - val_loss: 0.3568 - val_accuracy: 0.8561\n",
            "Epoch 58/100\n",
            "5359/5359 [==============================] - 1s 154us/step - loss: 0.3314 - accuracy: 0.8617 - val_loss: 0.3561 - val_accuracy: 0.8580\n",
            "Epoch 59/100\n",
            "5359/5359 [==============================] - 1s 149us/step - loss: 0.3312 - accuracy: 0.8653 - val_loss: 0.3568 - val_accuracy: 0.8538\n",
            "Epoch 60/100\n",
            "5359/5359 [==============================] - 1s 150us/step - loss: 0.3313 - accuracy: 0.8640 - val_loss: 0.3564 - val_accuracy: 0.8546\n",
            "Epoch 61/100\n",
            "5359/5359 [==============================] - 1s 150us/step - loss: 0.3309 - accuracy: 0.8628 - val_loss: 0.3559 - val_accuracy: 0.8569\n",
            "Epoch 62/100\n",
            "5359/5359 [==============================] - 1s 150us/step - loss: 0.3310 - accuracy: 0.8628 - val_loss: 0.3559 - val_accuracy: 0.8557\n",
            "Epoch 63/100\n",
            "5359/5359 [==============================] - 1s 151us/step - loss: 0.3307 - accuracy: 0.8636 - val_loss: 0.3558 - val_accuracy: 0.8569\n",
            "Epoch 64/100\n",
            "5359/5359 [==============================] - 1s 151us/step - loss: 0.3307 - accuracy: 0.8627 - val_loss: 0.3556 - val_accuracy: 0.8542\n",
            "Epoch 65/100\n",
            "5359/5359 [==============================] - 1s 154us/step - loss: 0.3305 - accuracy: 0.8628 - val_loss: 0.3558 - val_accuracy: 0.8531\n",
            "Epoch 66/100\n",
            "5359/5359 [==============================] - 1s 150us/step - loss: 0.3306 - accuracy: 0.8632 - val_loss: 0.3556 - val_accuracy: 0.8557\n",
            "Epoch 67/100\n",
            "5359/5359 [==============================] - 1s 166us/step - loss: 0.3304 - accuracy: 0.8621 - val_loss: 0.3550 - val_accuracy: 0.8535\n",
            "Epoch 68/100\n",
            "5359/5359 [==============================] - 1s 157us/step - loss: 0.3302 - accuracy: 0.8628 - val_loss: 0.3555 - val_accuracy: 0.8546\n",
            "Epoch 69/100\n",
            "5359/5359 [==============================] - 1s 152us/step - loss: 0.3303 - accuracy: 0.8625 - val_loss: 0.3554 - val_accuracy: 0.8523\n",
            "Epoch 70/100\n",
            "5359/5359 [==============================] - 1s 155us/step - loss: 0.3301 - accuracy: 0.8634 - val_loss: 0.3555 - val_accuracy: 0.8542\n",
            "Epoch 71/100\n",
            "5359/5359 [==============================] - 1s 158us/step - loss: 0.3301 - accuracy: 0.8632 - val_loss: 0.3547 - val_accuracy: 0.8565\n",
            "Epoch 72/100\n",
            "5359/5359 [==============================] - 1s 154us/step - loss: 0.3299 - accuracy: 0.8628 - val_loss: 0.3550 - val_accuracy: 0.8546\n",
            "Epoch 73/100\n",
            "5359/5359 [==============================] - 1s 153us/step - loss: 0.3298 - accuracy: 0.8640 - val_loss: 0.3548 - val_accuracy: 0.8573\n",
            "Epoch 74/100\n",
            "5359/5359 [==============================] - 1s 151us/step - loss: 0.3299 - accuracy: 0.8636 - val_loss: 0.3551 - val_accuracy: 0.8554\n",
            "Epoch 75/100\n",
            "5359/5359 [==============================] - 1s 149us/step - loss: 0.3297 - accuracy: 0.8638 - val_loss: 0.3545 - val_accuracy: 0.8569\n",
            "Epoch 76/100\n",
            "5359/5359 [==============================] - 1s 152us/step - loss: 0.3296 - accuracy: 0.8649 - val_loss: 0.3547 - val_accuracy: 0.8569\n",
            "Epoch 77/100\n",
            "5359/5359 [==============================] - 1s 148us/step - loss: 0.3296 - accuracy: 0.8621 - val_loss: 0.3545 - val_accuracy: 0.8554\n",
            "Epoch 78/100\n",
            "5359/5359 [==============================] - 1s 151us/step - loss: 0.3292 - accuracy: 0.8647 - val_loss: 0.3545 - val_accuracy: 0.8554\n",
            "Epoch 79/100\n",
            "5359/5359 [==============================] - 1s 148us/step - loss: 0.3293 - accuracy: 0.8643 - val_loss: 0.3536 - val_accuracy: 0.8565\n",
            "Epoch 80/100\n",
            "5359/5359 [==============================] - 1s 153us/step - loss: 0.3292 - accuracy: 0.8627 - val_loss: 0.3540 - val_accuracy: 0.8561\n",
            "Epoch 81/100\n",
            "5359/5359 [==============================] - 1s 152us/step - loss: 0.3290 - accuracy: 0.8640 - val_loss: 0.3543 - val_accuracy: 0.8573\n",
            "Epoch 82/100\n",
            "5359/5359 [==============================] - 1s 154us/step - loss: 0.3291 - accuracy: 0.8636 - val_loss: 0.3540 - val_accuracy: 0.8557\n",
            "Epoch 83/100\n",
            "5359/5359 [==============================] - 1s 151us/step - loss: 0.3288 - accuracy: 0.8630 - val_loss: 0.3538 - val_accuracy: 0.8569\n",
            "Epoch 84/100\n",
            "5359/5359 [==============================] - 1s 151us/step - loss: 0.3288 - accuracy: 0.8615 - val_loss: 0.3537 - val_accuracy: 0.8573\n",
            "Epoch 85/100\n",
            "5359/5359 [==============================] - 1s 152us/step - loss: 0.3290 - accuracy: 0.8612 - val_loss: 0.3533 - val_accuracy: 0.8561\n",
            "Epoch 86/100\n",
            "5359/5359 [==============================] - 1s 152us/step - loss: 0.3285 - accuracy: 0.8627 - val_loss: 0.3538 - val_accuracy: 0.8576\n",
            "Epoch 87/100\n",
            "5359/5359 [==============================] - 1s 155us/step - loss: 0.3288 - accuracy: 0.8628 - val_loss: 0.3532 - val_accuracy: 0.8554\n",
            "Epoch 88/100\n",
            "5359/5359 [==============================] - 1s 151us/step - loss: 0.3286 - accuracy: 0.8627 - val_loss: 0.3535 - val_accuracy: 0.8561\n",
            "Epoch 89/100\n",
            "5359/5359 [==============================] - 1s 153us/step - loss: 0.3285 - accuracy: 0.8632 - val_loss: 0.3539 - val_accuracy: 0.8546\n",
            "Epoch 90/100\n",
            "5359/5359 [==============================] - 1s 151us/step - loss: 0.3289 - accuracy: 0.8623 - val_loss: 0.3535 - val_accuracy: 0.8554\n",
            "Epoch 91/100\n",
            "5359/5359 [==============================] - 1s 148us/step - loss: 0.3285 - accuracy: 0.8619 - val_loss: 0.3535 - val_accuracy: 0.8554\n",
            "Epoch 92/100\n",
            "5359/5359 [==============================] - 1s 152us/step - loss: 0.3284 - accuracy: 0.8634 - val_loss: 0.3535 - val_accuracy: 0.8557\n",
            "Epoch 93/100\n",
            "5359/5359 [==============================] - 1s 149us/step - loss: 0.3283 - accuracy: 0.8614 - val_loss: 0.3538 - val_accuracy: 0.8554\n",
            "Epoch 94/100\n",
            "5359/5359 [==============================] - 1s 160us/step - loss: 0.3281 - accuracy: 0.8614 - val_loss: 0.3543 - val_accuracy: 0.8554\n",
            "Epoch 95/100\n",
            "5359/5359 [==============================] - 1s 160us/step - loss: 0.3286 - accuracy: 0.8630 - val_loss: 0.3535 - val_accuracy: 0.8557\n",
            "Epoch 96/100\n",
            "5359/5359 [==============================] - 1s 152us/step - loss: 0.3280 - accuracy: 0.8615 - val_loss: 0.3531 - val_accuracy: 0.8538\n",
            "Epoch 97/100\n",
            "5359/5359 [==============================] - 1s 151us/step - loss: 0.3282 - accuracy: 0.8617 - val_loss: 0.3537 - val_accuracy: 0.8554\n",
            "Epoch 98/100\n",
            "5359/5359 [==============================] - 1s 154us/step - loss: 0.3283 - accuracy: 0.8643 - val_loss: 0.3539 - val_accuracy: 0.8554\n",
            "Epoch 99/100\n",
            "5359/5359 [==============================] - 1s 157us/step - loss: 0.3281 - accuracy: 0.8617 - val_loss: 0.3541 - val_accuracy: 0.8550\n",
            "Epoch 100/100\n",
            "5359/5359 [==============================] - 1s 164us/step - loss: 0.3282 - accuracy: 0.8636 - val_loss: 0.3535 - val_accuracy: 0.8542\n"
          ],
          "name": "stdout"
        }
      ]
    },
    {
      "cell_type": "code",
      "metadata": {
        "colab": {
          "base_uri": "https://localhost:8080/",
          "height": 246
        },
        "id": "dn6f_RVXv46l",
        "outputId": "655a0d27-de18-47c9-cbac-cb41c732c506"
      },
      "source": [
        "# list all data in history\r\n",
        "\r\n",
        "print(model_history.history.keys())\r\n",
        "# summarize history for accuracy\r\n",
        "#plt.plot(model_history.history['acc'])\r\n",
        "plt.plot(model_history.history['val_acc'])\r\n",
        "plt.title('model accuracy')\r\n",
        "plt.ylabel('accuracy')\r\n",
        "plt.xlabel('epoch')\r\n",
        "plt.legend(['train', 'test'], loc='upper left')\r\n",
        "plt.show()"
      ],
      "execution_count": 19,
      "outputs": [
        {
          "output_type": "stream",
          "text": [
            "dict_keys(['val_loss', 'val_accuracy', 'loss', 'accuracy'])\n"
          ],
          "name": "stdout"
        },
        {
          "output_type": "error",
          "ename": "KeyError",
          "evalue": "ignored",
          "traceback": [
            "\u001b[0;31m---------------------------------------------------------------------------\u001b[0m",
            "\u001b[0;31mKeyError\u001b[0m                                  Traceback (most recent call last)",
            "\u001b[0;32m<ipython-input-19-9e1a7cdaf5a2>\u001b[0m in \u001b[0;36m<module>\u001b[0;34m()\u001b[0m\n\u001b[1;32m      4\u001b[0m \u001b[0;31m# summarize history for accuracy\u001b[0m\u001b[0;34m\u001b[0m\u001b[0;34m\u001b[0m\u001b[0;34m\u001b[0m\u001b[0m\n\u001b[1;32m      5\u001b[0m \u001b[0;31m#plt.plot(model_history.history['acc'])\u001b[0m\u001b[0;34m\u001b[0m\u001b[0;34m\u001b[0m\u001b[0;34m\u001b[0m\u001b[0m\n\u001b[0;32m----> 6\u001b[0;31m \u001b[0mplt\u001b[0m\u001b[0;34m.\u001b[0m\u001b[0mplot\u001b[0m\u001b[0;34m(\u001b[0m\u001b[0mmodel_history\u001b[0m\u001b[0;34m.\u001b[0m\u001b[0mhistory\u001b[0m\u001b[0;34m[\u001b[0m\u001b[0;34m'val_acc'\u001b[0m\u001b[0;34m]\u001b[0m\u001b[0;34m)\u001b[0m\u001b[0;34m\u001b[0m\u001b[0;34m\u001b[0m\u001b[0m\n\u001b[0m\u001b[1;32m      7\u001b[0m \u001b[0mplt\u001b[0m\u001b[0;34m.\u001b[0m\u001b[0mtitle\u001b[0m\u001b[0;34m(\u001b[0m\u001b[0;34m'model accuracy'\u001b[0m\u001b[0;34m)\u001b[0m\u001b[0;34m\u001b[0m\u001b[0;34m\u001b[0m\u001b[0m\n\u001b[1;32m      8\u001b[0m \u001b[0mplt\u001b[0m\u001b[0;34m.\u001b[0m\u001b[0mylabel\u001b[0m\u001b[0;34m(\u001b[0m\u001b[0;34m'accuracy'\u001b[0m\u001b[0;34m)\u001b[0m\u001b[0;34m\u001b[0m\u001b[0;34m\u001b[0m\u001b[0m\n",
            "\u001b[0;31mKeyError\u001b[0m: 'val_acc'"
          ]
        }
      ]
    },
    {
      "cell_type": "code",
      "metadata": {
        "colab": {
          "base_uri": "https://localhost:8080/"
        },
        "id": "S-4R9rddxybK",
        "outputId": "88ab8560-100a-40b6-ceae-ec3a56cf527b"
      },
      "source": [
        "# Predicting the Test set results\r\n",
        "y_pred = classifier.predict(X_test)\r\n",
        "y_pred = (y_pred > 0.5)\r\n",
        "\r\n",
        "# Making the Confusion Matrix\r\n",
        "from sklearn.metrics import confusion_matrix\r\n",
        "cm = confusion_matrix(y_test, y_pred)\r\n",
        "\r\n",
        "\r\n",
        "cm"
      ],
      "execution_count": 20,
      "outputs": [
        {
          "output_type": "execute_result",
          "data": {
            "text/plain": [
              "array([[1516,   79],\n",
              "       [ 195,  210]])"
            ]
          },
          "metadata": {
            "tags": []
          },
          "execution_count": 20
        }
      ]
    },
    {
      "cell_type": "code",
      "metadata": {
        "id": "HoCyu6fmySsZ"
      },
      "source": [
        "# Calculate the Accuracy\r\n",
        "from sklearn.metrics import accuracy_score\r\n",
        "score=accuracy_score(y_pred,y_test)"
      ],
      "execution_count": 21,
      "outputs": []
    },
    {
      "cell_type": "code",
      "metadata": {
        "colab": {
          "base_uri": "https://localhost:8080/"
        },
        "id": "_0oWsxIByWXg",
        "outputId": "fb902d37-55d9-469b-8e89-52c640ff9656"
      },
      "source": [
        "score"
      ],
      "execution_count": 22,
      "outputs": [
        {
          "output_type": "execute_result",
          "data": {
            "text/plain": [
              "0.863"
            ]
          },
          "metadata": {
            "tags": []
          },
          "execution_count": 22
        }
      ]
    },
    {
      "cell_type": "code",
      "metadata": {
        "id": "sm5oEzodyXo-"
      },
      "source": [
        ""
      ],
      "execution_count": null,
      "outputs": []
    }
  ]
}